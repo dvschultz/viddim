{
  "nbformat": 4,
  "nbformat_minor": 0,
  "metadata": {
    "colab": {
      "name": "Viddim.ipynb",
      "provenance": [],
      "collapsed_sections": [],
      "authorship_tag": "ABX9TyMHw/c0yyuaBzk7eUtRPkBC",
      "include_colab_link": true
    },
    "kernelspec": {
      "name": "python3",
      "display_name": "Python 3"
    },
    "language_info": {
      "name": "python"
    }
  },
  "cells": [
    {
      "cell_type": "markdown",
      "metadata": {
        "id": "view-in-github",
        "colab_type": "text"
      },
      "source": [
        "<a href=\"https://colab.research.google.com/github/dvschultz/viddim/blob/main/Viddim.ipynb\" target=\"_parent\"><img src=\"https://colab.research.google.com/assets/colab-badge.svg\" alt=\"Open In Colab\"/></a>"
      ]
    },
    {
      "cell_type": "markdown",
      "metadata": {
        "id": "VC7rTu42h0Or"
      },
      "source": [
        "#Video Rhythms (aka Viddims)\n",
        "\n",
        "This notebook will quickly demo how to create rhythms in video using static images (I stole the idea for this from [Stan Brakhage](https://www.youtube.com/watch?v=7VI2U3K-gBk), but others have done it as well)\n",
        "\n",
        "Note: No GPU needed for this as it’s all Python. You could [install it locally](https://www.youtube.com/watch?v=2zgki1oeRkg), but its probably eeasier for demo purposes to do it in Colab."
      ]
    },
    {
      "cell_type": "markdown",
      "metadata": {
        "id": "XJlgSRuK6QmA"
      },
      "source": [
        "## Setup\n",
        "We’ll install my dataset-tools library to start."
      ]
    },
    {
      "cell_type": "code",
      "metadata": {
        "id": "wP4f2puc6GyH"
      },
      "source": [
        "!git clone https://github.com/dvschultz/dataset-tools\n",
        "!git clone https://github.com/dvschultz/viddim\n",
        "%cd dataset-tools"
      ],
      "execution_count": null,
      "outputs": []
    },
    {
      "cell_type": "markdown",
      "metadata": {
        "id": "Hp9wT-olB7u1"
      },
      "source": [
        "## Creating Frames"
      ]
    },
    {
      "cell_type": "markdown",
      "metadata": {
        "id": "MmEEkdbQ6XDE"
      },
      "source": [
        "### Working with images\n",
        "Let’s start by cutting up an image with the window.py script. Upload an image that is fairly high res (~3000 pixels). Just drag the image into the Folder sidebar."
      ]
    },
    {
      "cell_type": "code",
      "metadata": {
        "id": "FgasO_mPSaWU"
      },
      "source": [
        "!python window.py -h"
      ],
      "execution_count": null,
      "outputs": []
    },
    {
      "cell_type": "markdown",
      "metadata": {
        "id": "vZdgnUAjQpso"
      },
      "source": [
        "Let’s make a basic example. We’ll crop our image into a number of windows of the size 640x480. And we’ll number each file 000000000–whatever."
      ]
    },
    {
      "cell_type": "code",
      "metadata": {
        "id": "YG3Jx8KP61Sk"
      },
      "source": [
        "!python window.py -i /content/img011082-4.png -o /content/480p/ -ht 480 -w 640 --numbered"
      ],
      "execution_count": null,
      "outputs": []
    },
    {
      "cell_type": "markdown",
      "metadata": {
        "id": "VhMedY-h-dSu"
      },
      "source": [
        "Compile it using ffmpeg. A value to play with here is `-r` which sets framerate. This can help speed up or slow the scanning of images down."
      ]
    },
    {
      "cell_type": "code",
      "metadata": {
        "id": "6rDwYM3p9qdJ"
      },
      "source": [
        "!ffmpeg -i /content/480p/%09d.png -r 24 -vcodec libx264 -pix_fmt yuv420p /content/480p.mp4 -y"
      ],
      "execution_count": null,
      "outputs": []
    },
    {
      "cell_type": "markdown",
      "metadata": {
        "id": "95XnwQ5_-tne"
      },
      "source": [
        "I also recommend trying different dimensions. This can give you a different aspect ratio, but it could also give you \"speed\" changes (at least the way our brain processes things)"
      ]
    },
    {
      "cell_type": "code",
      "metadata": {
        "id": "HcKJbpHO9_Nh"
      },
      "source": [
        "!python window.py -i /content/img011082-4.png -o /content/720p/ --direction YthenX -ht 720 -w 1280 --numbered "
      ],
      "execution_count": null,
      "outputs": []
    },
    {
      "cell_type": "code",
      "metadata": {
        "id": "XntPYhro-623"
      },
      "source": [
        "!ffmpeg -i /content/720p/%09d.png -r 24 -vcodec libx264 -pix_fmt yuv420p /content/720p.mp4 -y"
      ],
      "execution_count": null,
      "outputs": []
    },
    {
      "cell_type": "markdown",
      "metadata": {
        "id": "EUfDJmHQBrTX"
      },
      "source": [
        "### Working with Video\n",
        "Alternatively we can upload a video and split it into frames"
      ]
    },
    {
      "cell_type": "code",
      "metadata": {
        "id": "JPpEbRx2--uI"
      },
      "source": [
        "!mkdir /content/vid-files\n",
        "!ffmpeg -i /content/polkadot.mp4 /content/vid-files/%09d.png"
      ],
      "execution_count": null,
      "outputs": []
    },
    {
      "cell_type": "markdown",
      "metadata": {
        "id": "OaVibpyEB4Pm"
      },
      "source": [
        "## Viddim\n",
        "\n",
        "Now that we have a bunch of frames we can operate on them.\n",
        "\n",
        "Viddim uses two concepts to create these:\n",
        "\n",
        "* `riddims`: small rhythmic patterns that describe how long each frame should appear for\n",
        "* `playlists`: the order of each viddim sequence"
      ]
    },
    {
      "cell_type": "code",
      "metadata": {
        "colab": {
          "base_uri": "https://localhost:8080/"
        },
        "id": "6rxxteVlCHNR",
        "outputId": "f9cba81a-2221-4594-dcc4-718aef0b4071"
      },
      "source": [
        "%cd /content/viddim"
      ],
      "execution_count": null,
      "outputs": [
        {
          "output_type": "stream",
          "name": "stdout",
          "text": [
            "/content/viddim\n"
          ]
        }
      ]
    },
    {
      "cell_type": "code",
      "metadata": {
        "colab": {
          "base_uri": "https://localhost:8080/"
        },
        "id": "2lK-wa9AC5BQ",
        "outputId": "b2231e99-0326-424b-9536-99b585d11f50"
      },
      "source": [
        "!python viddim.py -h"
      ],
      "execution_count": null,
      "outputs": [
        {
          "output_type": "stream",
          "name": "stdout",
          "text": [
            "usage: viddim.py [-h] [-i INPUT_FOLDER] [-p PLAYLIST] [-o OUTPUT_FOLDER]\n",
            "                 [-r RIDDIMS]\n",
            "\n",
            "make dance music with images\n",
            "\n",
            "optional arguments:\n",
            "  -h, --help            show this help message and exit\n",
            "  -i INPUT_FOLDER, --input_folder INPUT_FOLDER\n",
            "                        Directory path to the inputs folder. (default:\n",
            "                        ./input/)\n",
            "  -p PLAYLIST, --playlist PLAYLIST\n",
            "                        Directory path to a file containing a playlist.\n",
            "                        (default: None)\n",
            "  -o OUTPUT_FOLDER, --output_folder OUTPUT_FOLDER\n",
            "                        Directory path to the outputs folder. (default:\n",
            "                        ./output/)\n",
            "  -r RIDDIMS, --riddims RIDDIMS\n",
            "                        Directory path to a file containing viddims. (default:\n",
            "                        None)\n"
          ]
        }
      ]
    },
    {
      "cell_type": "code",
      "metadata": {
        "colab": {
          "base_uri": "https://localhost:8080/"
        },
        "id": "gqv7Hr86DEGI",
        "outputId": "87d43011-c6dd-49e2-d9cf-b29bf5fffe81"
      },
      "source": [
        "# Below this line write all of the captions. Put each caption on a new line.\n",
        "%%writefile /content/riddims.txt\n",
        "hold3: 72\n",
        "hold2: 48\n",
        "hold: 24\n",
        "one_24: 1,1,1,1,1,1,1,1,1,1,1,1,1,1,1,1,1,1,1,1,1,1,1,1\n",
        "second_holdend: 1,1,1,1,1,1,1,1,1,1,1,1,1,1,1,1,1,1,1,1,1,1,1,1,24\n",
        "four_24: 4,4,4,4,4,4\n",
        "quarter_notes: 6,6,6,6"
      ],
      "execution_count": null,
      "outputs": [
        {
          "output_type": "stream",
          "name": "stdout",
          "text": [
            "Writing /content/riddims.txt\n"
          ]
        }
      ]
    },
    {
      "cell_type": "code",
      "metadata": {
        "colab": {
          "base_uri": "https://localhost:8080/"
        },
        "id": "eQm2E6EKPuU8",
        "outputId": "d8df8569-26a8-43be-c8a4-49c04a92243f"
      },
      "source": [
        "%%writefile /content/playlist.txt\n",
        "hold, hold, one_24, one_24, quarter_notes, quarter_notes"
      ],
      "execution_count": null,
      "outputs": [
        {
          "output_type": "stream",
          "name": "stdout",
          "text": [
            "Writing /content/playlist.txt\n"
          ]
        }
      ]
    },
    {
      "cell_type": "code",
      "metadata": {
        "id": "dWd5N1CgP3Lw"
      },
      "source": [
        "!python viddim.py \\\n",
        "-i /content/480p \\\n",
        "-o /content/480p-out/ \\\n",
        "-p /content/playlist.txt \\\n",
        "-r /content/riddims.txt"
      ],
      "execution_count": null,
      "outputs": []
    },
    {
      "cell_type": "code",
      "metadata": {
        "colab": {
          "base_uri": "https://localhost:8080/"
        },
        "id": "nnGxynbtgtjb",
        "outputId": "5c726e12-5026-44e2-f99a-8f1487a4b119"
      },
      "source": [
        "%%writefile /content/playlist.txt\n",
        "hold, hold, one_24, one_24, quarter_notes, quarter_notes, one_24, one_24, hold, hold, one_24, one_24"
      ],
      "execution_count": null,
      "outputs": [
        {
          "output_type": "stream",
          "name": "stdout",
          "text": [
            "Overwriting /content/playlist.txt\n"
          ]
        }
      ]
    },
    {
      "cell_type": "code",
      "metadata": {
        "id": "9f-rtSHTfVmq"
      },
      "source": [
        "!python viddim.py \\\n",
        "-i /content/vid-files \\\n",
        "-o /content/video-out/ \\\n",
        "-p /content/playlist.txt \\\n",
        "-r /content/riddims.txt \\\n",
        "--random #the diego special :)"
      ],
      "execution_count": null,
      "outputs": []
    },
    {
      "cell_type": "code",
      "metadata": {
        "id": "SPZlI8KlgmSH"
      },
      "source": [
        ""
      ],
      "execution_count": null,
      "outputs": []
    }
  ]
}